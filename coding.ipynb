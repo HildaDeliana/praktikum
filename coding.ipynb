{
 "cells": [
  {
   "cell_type": "markdown",
   "id": "35955dc1",
   "metadata": {},
   "source": [
    "<b> LATIHAN"
   ]
  },
  {
   "cell_type": "markdown",
   "id": "8ccf3351",
   "metadata": {},
   "source": [
    "1.Buatlah variabel dengan nama hobi, yang digunakan untuk menampung input dari user dengan label \"Hobi kamu apa? : \" , kemudian Cetaklah dengan label Hobi kamu : {hobi}"
   ]
  },
  {
   "cell_type": "markdown",
   "id": "8d82490f",
   "metadata": {},
   "source": [
    "2.Buatlah variabel nama, yang digunakan untuk menampung input dari user dengan label \"Siapa nama kamu? : \" , misal user mengisikan nama \"Romi\" maka akan tampil output Nama kamu berawalan huruf R"
   ]
  },
  {
   "cell_type": "code",
   "execution_count": 1,
   "id": "38350388",
   "metadata": {},
   "outputs": [
    {
     "name": "stdout",
     "output_type": "stream",
     "text": [
      "Jawaban No. 1\n",
      "Hobi kamu apa? :membaca buku\n",
      "Hobi kamu : membaca buku\n"
     ]
    }
   ],
   "source": [
    "print(\"Jawaban No. 1\")\n",
    "\n",
    "hobi = input('Hobi kamu apa? :')\n",
    "print(f\"Hobi kamu : {hobi}\")"
   ]
  },
  {
   "cell_type": "code",
   "execution_count": 2,
   "id": "95e3f67e",
   "metadata": {},
   "outputs": [
    {
     "name": "stdout",
     "output_type": "stream",
     "text": [
      "Jawaban No. 2\n",
      "Siapa nama kamu :hilda deliana\n",
      "Nama kamu berawalan huruf h\n"
     ]
    }
   ],
   "source": [
    "print(\"Jawaban No. 2\")\n",
    "\n",
    "nama = input('Siapa nama kamu :')\n",
    "print(f\"Nama kamu berawalan huruf {nama[0]}\")"
   ]
  },
  {
   "cell_type": "markdown",
   "id": "9c78123d",
   "metadata": {},
   "source": [
    "<b> LATIHAN"
   ]
  },
  {
   "cell_type": "markdown",
   "id": "12366958",
   "metadata": {},
   "source": [
    "1.Buatlah program tebak hasil dari perkalian dari 2 angka dari 0 sampai 100, jika user menjawab benar maka tampil Jawaban anda True dan jika salah, maka akan tampil Jawaban anda False"
   ]
  },
  {
   "cell_type": "code",
   "execution_count": 3,
   "id": "f3a02197",
   "metadata": {},
   "outputs": [
    {
     "name": "stdout",
     "output_type": "stream",
     "text": [
      "Jawaban Tebak Perkalian 2 Angka\n",
      "Berapakah hasil perkalian 50 dan 47 : 123\n",
      "Jawaban anda False\n"
     ]
    }
   ],
   "source": [
    "print(\"Jawaban Tebak Perkalian 2 Angka\")\n",
    "\n",
    "from random import randint\n",
    "angka_1 = randint(0,100)\n",
    "angka_2 = randint(0,100)\n",
    "\n",
    "hasil = int(input(f\"Berapakah hasil perkalian {angka_1} dan {angka_2} : \"))\n",
    "print(f\"Jawaban anda {hasil==angka_1 * angka_2}\")"
   ]
  },
  {
   "cell_type": "markdown",
   "id": "c8efbcb2",
   "metadata": {},
   "source": [
    "Latihan\n",
    "Carilah kode CLDR Names dan unicode dari emoji, dan cetaklah menggunakan fungsi print"
   ]
  },
  {
   "cell_type": "code",
   "execution_count": 4,
   "id": "ed3df655",
   "metadata": {},
   "outputs": [
    {
     "name": "stdout",
     "output_type": "stream",
     "text": [
      "Names : grinning face\n",
      "Unicode : U0001F600\n",
      "Hasil : 😀\n",
      "\n",
      "Names : rolling on the floor laughing\n",
      "Unicode : U0001F923\n",
      "Hasil : 🤣\n"
     ]
    }
   ],
   "source": [
    "print(\"Names : grinning face\")\n",
    "print(\"Unicode : U0001F600\")\n",
    "print(\"Hasil : \\U0001F600\")\n",
    "\n",
    "print(\"\\nNames : rolling on the floor laughing\")\n",
    "print(\"Unicode : U0001F923\")\n",
    "print(\"Hasil : \\U0001F923\")"
   ]
  },
  {
   "cell_type": "markdown",
   "id": "72338255",
   "metadata": {},
   "source": [
    "<b>Latihan\n",
    "    \n",
    "Jika terdapat sebuah string Belajar Pemrograman Python Maka tampilkan output berikut ini menggunakan fungsi print\n",
    "    \n",
    "1.Belajar\n",
    "2.ajar\n",
    "3.Pemrograman\n",
    "4.gram\n",
    "5.Python\n",
    "6.Py\n",
    "7.gram Python\n",
    "8.Pemrograman Python"
   ]
  },
  {
   "cell_type": "code",
   "execution_count": 5,
   "id": "c479fa36",
   "metadata": {},
   "outputs": [
    {
     "name": "stdout",
     "output_type": "stream",
     "text": [
      "1.Belajar\n",
      "2.ajar\n",
      "3.Pemrograman\n",
      "4.gram\n",
      "5.Python\n",
      "6.Py\n",
      "7.gram Python\n",
      "8.Pemrograman Python\n"
     ]
    }
   ],
   "source": [
    "kalimat = \"Belajar Pemrograman Python\"\n",
    "print(f'1.{kalimat[0:7]}')\n",
    "print(f'2.{kalimat[3:7]}')\n",
    "print(f'3.{kalimat[8:19]}')\n",
    "print(f'4.{kalimat[13:17]}')\n",
    "print(f'5.{kalimat[20:26]}')\n",
    "print(f'6.{kalimat[20:22]}')\n",
    "print(f'7.{kalimat[13:17]} {kalimat[20:26]}')\n",
    "print(f'8.{kalimat[8:19]} {kalimat[20:26]}')"
   ]
  },
  {
   "cell_type": "markdown",
   "id": "122c4b86",
   "metadata": {},
   "source": [
    "Latihan\n",
    "\n",
    "1. Buatlah program untuk mengecek bahwa sebuah email termasuk valid atau tidak. Valid diartikan True dan tidak valid diartikan False Berikut contoh test case yang bisa digunakan sebagai acuan\n",
    "\n",
    "alunsujjada@gmailcom -> False\n",
    "alunsujjada@gmail.com -> True\n",
    "alun.sujjada@gmail.com -> False\n",
    "alunsujjada.gmail.com -> False\n",
    "alun.sujjada@gmailcom -> False"
   ]
  },
  {
   "cell_type": "code",
   "execution_count": null,
   "id": "bc9c7b65",
   "metadata": {},
   "outputs": [],
   "source": [
    "import re\n",
    "\n",
    "def email(cek_email):\n",
    "   syarat = \"^[a-zA-Z0-9-_]+@[a-zA-Z0-9]+\\.[a-z]{1,3}$\"\n",
    "   if re.match(syarat,cek_email):\n",
    "      return True\n",
    "   return False\n",
    "\n",
    "cek_email = input()\n",
    "print(email(cek_email))\n"
   ]
  }
 ],
 "metadata": {
  "kernelspec": {
   "display_name": "Python 3 (ipykernel)",
   "language": "python",
   "name": "python3"
  },
  "language_info": {
   "codemirror_mode": {
    "name": "ipython",
    "version": 3
   },
   "file_extension": ".py",
   "mimetype": "text/x-python",
   "name": "python",
   "nbconvert_exporter": "python",
   "pygments_lexer": "ipython3",
   "version": "3.9.13"
  }
 },
 "nbformat": 4,
 "nbformat_minor": 5
}
